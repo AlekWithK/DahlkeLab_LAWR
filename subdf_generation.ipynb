{
 "cells": [
  {
   "cell_type": "markdown",
   "metadata": {},
   "source": [
    "## Imports"
   ]
  },
  {
   "cell_type": "code",
   "execution_count": 1,
   "metadata": {},
   "outputs": [
    {
     "name": "stderr",
     "output_type": "stream",
     "text": [
      "c:\\Users\\alekh\\AppData\\Local\\Programs\\Python\\Python310\\lib\\site-packages\\dataretrieval\\nadp.py:44: UserWarning: GDAL not installed. Some functions will not work.\n",
      "  warnings.warn('GDAL not installed. Some functions will not work.')\n"
     ]
    }
   ],
   "source": [
    "# Imports -- Python 3.10\n",
    "import numpy as np\n",
    "import math\n",
    "import pandas as pd\n",
    "import matplotlib.pyplot as plt\n",
    "import geopandas as gpd\n",
    "\n",
    "from matplotlib import ticker\n",
    "from importlib import reload\n",
    "from dataretrieval import nwis\n",
    "from datetime import timedelta\n",
    "\n",
    "# Custom libs\n",
    "import Src.func as fn\n",
    "import Src.classes as cl\n",
    "reload(fn)\n",
    "reload(cl)\n",
    "\n",
    "pd.options.mode.chained_assignment = None"
   ]
  },
  {
   "cell_type": "markdown",
   "metadata": {},
   "source": [
    "## Sub_df 1: HMF Events Breakdown Dataset\n",
    "The following generates a dataset containing information on every HMF event for every input gauge"
   ]
  },
  {
   "cell_type": "code",
   "execution_count": 19,
   "metadata": {},
   "outputs": [
    {
     "name": "stdout",
     "output_type": "stream",
     "text": [
      "# of sites: 4241\n"
     ]
    }
   ],
   "source": [
    "date_range = 30\n",
    "quantile = 90\n",
    "test_limit = 2\n",
    "\n",
    "site_list_df = pd.read_excel(f'Prelim_Data/_National_Metrics/National_Metrics_{date_range}_{quantile}.xlsx', dtype=fn.DATASET_DTYPES)\n",
    "site_list_df = site_list_df[site_list_df['valid'] == True]\n",
    "site_list = site_list_df['site_no'].tolist()\n",
    "print(f'# of sites: {len(site_list)}')"
   ]
  },
  {
   "cell_type": "code",
   "execution_count": 32,
   "metadata": {},
   "outputs": [],
   "source": [
    "df_results = pd.DataFrame()\n",
    "\n",
    "# This is a cut down version of single_site_analysis() focused only on event metrics\n",
    "for i, site in enumerate(['13335050', '11447650']):\n",
    "    if i == test_limit: break\n",
    "    df = nwis.get_record(sites=site, service=fn.SERVICE, parameterCD=[fn.PARAM_CODE, fn.TIDAL_CODE], start=fn.DEFAULT_START, end=fn.DEFAULT_END)\n",
    "    df = df.reset_index()\n",
    "    \n",
    "    # Only run on valid sites so this should never be the case but check anyways\n",
    "    if df.empty: continue\n",
    "    \n",
    "    if '00060_radar sensor_Mean' in df.columns and '00060_Mean' not in df.columns:\n",
    "        df.rename(columns={'00060_radar sensor_Mean': '00060_Mean'}, inplace=True)\n",
    "        \n",
    "    df = fn.merge_tidal(df)\n",
    "    \n",
    "    # Cropping to date range\n",
    "    date_threshold = pd.to_datetime(fn.DEFAULT_END).date() - timedelta(days=365.25 * date_range)\n",
    "    df = df[df['datetime'].dt.date >= date_threshold]\n",
    "    \n",
    "    threshold = fn.calc_threshold(df, (quantile / 100))\n",
    "    _, hmf_series_cont = fn.filter_hmf(df, threshold)\n",
    "    hmf_series_cont = fn.convert_hmf(hmf_series_cont, threshold)\n",
    "    \n",
    "    hmf_series_cont['00060_Mean'] = hmf_series_cont['00060_Mean'] * fn.CUBIC_FT_KM_FACTOR\n",
    "    hmf_series_cont.to_csv('hmf_series_cont.csv')\n",
    "    \n",
    "    # Insert a dummy row at the end to ensure the last event is captured\n",
    "    last = hmf_series_cont['datetime'].iloc[-1] + timedelta(days=1)\n",
    "    insert = {'datetime': last, '00060_Mean': 0, 'site_no': site}\n",
    "    hmf_series_cont = pd.concat([hmf_series_cont, pd.DataFrame(insert, index=[0])]).reset_index(drop=True)\n",
    "\n",
    "    event_count = hmf = duration = 0\n",
    "    event = False\n",
    "    start = end = None\n",
    "    for i, row in hmf_series_cont.iterrows():     \n",
    "            \n",
    "        # No current event and none starting now\n",
    "        if row['00060_Mean'] == 0 and event == False:\n",
    "            event = False\n",
    "            continue\n",
    "                    \n",
    "        # New event starting\n",
    "        if row['00060_Mean'] > 0 and event == False:\n",
    "            hmf = row['00060_Mean']\n",
    "            start = row['datetime'].date()\n",
    "            duration = 1\n",
    "            event_count += 1\n",
    "            event = True\n",
    "            continue\n",
    "        \n",
    "        # Current event continuing\n",
    "        if row['00060_Mean'] > 0 and event == True:\n",
    "            hmf += row['00060_Mean']\n",
    "            duration += 1\n",
    "            event = True\n",
    "            continue\n",
    "        \n",
    "        # Current event ending, add to dataframe\n",
    "        if row['00060_Mean'] == 0 and event == True:\n",
    "            end = row['datetime'].date() - timedelta(days=1)\n",
    "            data = {'site_no': site, 'event': event_count, 'start': start, 'end': end, 'hmf': hmf, 'duration': duration}\n",
    "            df_results = pd.concat([df_results, pd.DataFrame(data, index=[0])])\n",
    "            event = False\n",
    "            continue\n",
    "\n",
    "df_results = df_results.reset_index(drop=True)            \n",
    "df_results.to_csv('events_subdf.csv')"
   ]
  },
  {
   "cell_type": "markdown",
   "metadata": {},
   "source": [
    "## Sub_df 2: Annual Metrics Breakdown Dataset\n",
    "The following generates a dataset including the annual metrics for each input gauge"
   ]
  }
 ],
 "metadata": {
  "kernelspec": {
   "display_name": "Python 3",
   "language": "python",
   "name": "python3"
  },
  "language_info": {
   "codemirror_mode": {
    "name": "ipython",
    "version": 3
   },
   "file_extension": ".py",
   "mimetype": "text/x-python",
   "name": "python",
   "nbconvert_exporter": "python",
   "pygments_lexer": "ipython3",
   "version": "3.10.11"
  }
 },
 "nbformat": 4,
 "nbformat_minor": 2
}
