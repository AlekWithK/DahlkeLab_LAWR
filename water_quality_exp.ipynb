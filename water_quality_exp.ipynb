{
 "cells": [
  {
   "cell_type": "markdown",
   "metadata": {},
   "source": [
    "## Ongoing Notes:\n",
    "Key Problems:\n",
    "1. Which dataset or datasets even contain the information we want\n",
    "2. How do we determine when measurements were taken in the WQP dataset\n",
    "3. How do we determine which param_codes to use (there are ~10,000!) via NWIS\n",
    "4. How do we match streamflow gauges to their closest water quality gauge if one exists (lat/long data is available)\n",
    "5. How do we work with the extremely reduced number of sites that have these niche water quality metrics<br>\n",
    "    -Seems very unlikely that most if any sites will have all the ones listed in the proposal in one place\n",
    "\n",
    "...in other words how do we spatially and temporarily match streamflow data with water quality data\n",
    "<br><br>\n",
    "\n",
    "TODO:\n",
    "1. Determine relevant gauge counts for at least some of these metrics, per state\n",
    "2. Determine type of data returned, time-series, or otherwise\n",
    "<br><br>\n",
    "\n",
    "Comments:<br>\n",
    "How granular will the water quality data be ultimately? Is building a robust water quality profile for a few gauges in locations where EAR is viable the focus, or is having a general idea of an entire watershed regions water quality the focus?"
   ]
  },
  {
   "cell_type": "markdown",
   "metadata": {},
   "source": [
    "## Initial Water Quality Data Exploration"
   ]
  },
  {
   "cell_type": "code",
   "execution_count": 1,
   "metadata": {},
   "outputs": [],
   "source": [
    "#Python3.10\n",
    "import os\n",
    "import pandas as pd \n",
    "import numpy as np\n",
    "import seaborn as sns\n",
    "import geopandas as gpd\n",
    "import matplotlib.pyplot as plt\n",
    "import matplotlib.colors as mcolors\n",
    "import contextily as cx\n",
    "from importlib import reload\n",
    "from typing import IO\n",
    "from IPython.display import display\n",
    "\n",
    "from datetime import datetime, timedelta\n",
    "\n",
    "# USGS Data retreival tool\n",
    "from dataretrieval import nwis, utils, codes\n",
    "\n",
    "# Custom modules are imported in multiple locations to faciliate easy reloading when edits are made to their respective files\n",
    "import Src.classes as cl\n",
    "import Src.func as fn\n",
    "reload(cl)\n",
    "reload(fn)\n",
    "\n",
    "# TODO: Look into the warning that this is disabling. It doesn't appear to be significant for the purposes of this code but should be understood\n",
    "pd.options.mode.chained_assignment = None\n",
    "\n",
    "#pd.options.mode.chained_assignment = 'warn'"
   ]
  },
  {
   "cell_type": "code",
   "execution_count": 15,
   "metadata": {},
   "outputs": [
    {
     "name": "stderr",
     "output_type": "stream",
     "text": [
      "C:\\Users\\alekh\\AppData\\Roaming\\Python\\Python310\\site-packages\\dataretrieval\\nwis.py:180: UserWarning: WARNING: Starting in March 2024, the NWIS qw data endpoint is retiring and no longer receives updates. For more information, refer to https://waterdata.usgs.gov.nwis/qwdata and https://doi-usgs.github.io/dataRetrieval/articles/Status.html or email CompTools@usgs.gov.\n",
      "  warnings.warn(('WARNING: Starting in March 2024, the NWIS qw data endpoint is '\n"
     ]
    }
   ],
   "source": [
    "#'01578310'\n",
    "df = nwis.get_record(sites='01578310', service='qwdata', start='2019-10-01', end='2020-09-30')"
   ]
  },
  {
   "cell_type": "code",
   "execution_count": 16,
   "metadata": {},
   "outputs": [
    {
     "name": "stdout",
     "output_type": "stream",
     "text": [
      "['agency_cd', 'site_no', 'sample_dt', 'sample_tm', 'sample_end_dt', 'sample_end_tm', 'sample_start_time_datum_cd', 'tm_datum_rlbty_cd', 'coll_ent_cd', 'medium_cd', 'project_cd', 'aqfr_cd', 'tu_id', 'body_part_id', 'hyd_cond_cd', 'samp_type_cd', 'hyd_event_cd', 'sample_lab_cm_txt', 'p00010', 'p00020', 'p00025', 'p00061', 'p00063', 'p00065', 'p00095', 'p00191', 'p00300', 'p00301', 'p00400', 'p00403', 'p00405', 'p00452', 'p00453', 'p00600', 'p00602', 'p00605', 'p00607', 'p00608', 'p00613', 'p00618', 'p00623', 'p00625', 'p00631', 'p00660', 'p00665', 'p00666', 'p00671', 'p00681', 'p00688', 'p00689', 'p00691', 'p00694', 'p00900', 'p00904', 'p00905', 'p00915', 'p00925', 'p00930', 'p00931', 'p00932', 'p00935', 'p00940', 'p00945', 'p00950', 'p00955', 'p01000', 'p01020', 'p01046', 'p01080', 'p01085', 'p01130', 'p01145', 'p29801', 'p30207', 'p30209', 'p31795', 'p31797', 'p31863', 'p31872', 'p32211', 'p32218', 'p39086', 'p49570', 'p50280', 'p51756', 'p51758', 'p51760', 'p53954', 'p61678', 'p61679', 'p61680', 'p61682', 'p61683', 'p61685', 'p61687', 'p62360', 'p62854', 'p63676', 'p63680', 'p65064', 'p65065', 'p65066', 'p65067', 'p65068', 'p65069', 'p65070', 'p65072', 'p65078', 'p65080', 'p65084', 'p65085', 'p65087', 'p65088', 'p65090', 'p65091', 'p65093', 'p65098', 'p65102', 'p65103', 'p65105', 'p65107', 'p66589', 'p66592', 'p66596', 'p66598', 'p66604', 'p66607', 'p66610', 'p66613', 'p66620', 'p66632', 'p66641', 'p66643', 'p66646', 'p66649', 'p66651', 'p66654', 'p66660', 'p67595', 'p67670', 'p67685', 'p67702', 'p67706', 'p68211', 'p68216', 'p68226', 'p68231', 'p68236', 'p68240', 'p68336', 'p68426', 'p68437', 'p68498', 'p68500', 'p68502', 'p68503', 'p68505', 'p68508', 'p68511', 'p68514', 'p68517', 'p68519', 'p68520', 'p68521', 'p68522', 'p68523', 'p68524', 'p68525', 'p68526', 'p68527', 'p68528', 'p68529', 'p68530', 'p68533', 'p68536', 'p68538', 'p68542', 'p68543', 'p68545', 'p68547', 'p68548', 'p68550', 'p68552', 'p68553', 'p68560', 'p68561', 'p68562', 'p68563', 'p68564', 'p68566', 'p68567', 'p68568', 'p68569', 'p68570', 'p68571', 'p68572', 'p68573', 'p68574', 'p68575', 'p68576', 'p68577', 'p68578', 'p68580', 'p68581', 'p68582', 'p68583', 'p68586', 'p68587', 'p68588', 'p68589', 'p68590', 'p68591', 'p68594', 'p68595', 'p68596', 'p68597', 'p68598', 'p68599', 'p68600', 'p68601', 'p68602', 'p68603', 'p68604', 'p68605', 'p68606', 'p68608', 'p68611', 'p68612', 'p68613', 'p68614', 'p68615', 'p68616', 'p68617', 'p68618', 'p68619', 'p68621', 'p68622', 'p68623', 'p68624', 'p68625', 'p68627', 'p68632', 'p68633', 'p68638', 'p68639', 'p68641', 'p68644', 'p68645', 'p68646', 'p68647', 'p68648', 'p68649', 'p68650', 'p68651', 'p68652', 'p68653', 'p68654', 'p68655', 'p68656', 'p68657', 'p68658', 'p68659', 'p68660', 'p68661', 'p68662', 'p68663', 'p68664', 'p68665', 'p68666', 'p68668', 'p68669', 'p68670', 'p68671', 'p68672', 'p68673', 'p68675', 'p68676', 'p68677', 'p68678', 'p68679', 'p68682', 'p68683', 'p68684', 'p68686', 'p68687', 'p68688', 'p68689', 'p68692', 'p68693', 'p68694', 'p68695', 'p68696', 'p68697', 'p68698', 'p68699', 'p68700', 'p68701', 'p68702', 'p68703', 'p68704', 'p68708', 'p68710', 'p68711', 'p68712', 'p68713', 'p68769', 'p68871', 'p68872', 'p68873', 'p70300', 'p70301', 'p70302', 'p70303', 'p70331', 'p70953', 'p71846', 'p71851', 'p71856', 'p71999', 'p80154', 'p80155', 'p82398', 'p84164', 'p84171', 'p84182', 'p84184', 'p89003', 'p89005', 'p89011', 'p90095', 'p90516', 'p90517', 'p90518', 'p90519', 'p90520', 'p90521', 'p90522', 'p90523', 'p90524', 'p90527', 'p90529', 'p90552', 'p90553', 'p90554', 'p90555', 'p90556', 'p90558', 'p90624', 'p90625', 'p90808', 'p91157', 'p91158', 'p91159', 'p91986', 'p99105', 'p99111', 'p99155', 'p99156', 'p99159', 'p99171', 'p99172', 'p99173', 'p99206']\n",
      "363\n",
      "25\n"
     ]
    }
   ],
   "source": [
    "print(df.columns.to_list())\n",
    "print(len(df.columns.to_list()))\n",
    "print(df['p00300'].count())"
   ]
  }
 ],
 "metadata": {
  "kernelspec": {
   "display_name": "Python 3",
   "language": "python",
   "name": "python3"
  },
  "language_info": {
   "codemirror_mode": {
    "name": "ipython",
    "version": 3
   },
   "file_extension": ".py",
   "mimetype": "text/x-python",
   "name": "python",
   "nbconvert_exporter": "python",
   "pygments_lexer": "ipython3",
   "version": "3.10.11"
  }
 },
 "nbformat": 4,
 "nbformat_minor": 2
}
