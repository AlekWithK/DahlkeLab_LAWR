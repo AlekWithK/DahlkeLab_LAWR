{
 "cells": [
  {
   "cell_type": "markdown",
   "metadata": {},
   "source": [
    "## Plotly Scatter Mapbox Testing"
   ]
  },
  {
   "cell_type": "code",
   "execution_count": 4,
   "metadata": {},
   "outputs": [
    {
     "data": {
      "text/plain": [
       "<module 'Src.func' from 'c:\\\\Users\\\\alekh\\\\OneDrive - University of California, Davis\\\\WORK\\\\DahlkeLab_LAWR\\\\Src\\\\func.py'>"
      ]
     },
     "execution_count": 4,
     "metadata": {},
     "output_type": "execute_result"
    }
   ],
   "source": [
    "import pandas as pd\n",
    "import plotly.express as px\n",
    "import numpy as np\n",
    "\n",
    "import Src.classes as cl\n",
    "import Src.func as fn\n",
    "from importlib import reload\n",
    "reload(cl)\n",
    "reload(fn)"
   ]
  },
  {
   "cell_type": "code",
   "execution_count": 6,
   "metadata": {},
   "outputs": [],
   "source": [
    "date_range = 30\n",
    "quantile = 90\n",
    "\n",
    "try:\n",
    "    dataset = f'Prelim_Data/_National_Metrics/National_Metrics_{date_range}_{quantile}.xlsx'\n",
    "    df_1 = pd.read_excel(dataset, dtype=fn.DATASET_DTYPES)\n",
    "    df_1, _ = fn.filter_by_valid(df_1)\n",
    "    df_1 = df_1.reset_index(drop=True)\n",
    "except Exception as e:\n",
    "    print(e)\n",
    "    df_1 = pd.DataFrame()"
   ]
  },
  {
   "cell_type": "code",
   "execution_count": 66,
   "metadata": {},
   "outputs": [
    {
     "ename": "ValueError",
     "evalue": "\n    Invalid value of type 'builtins.int' received for the 'r' property of layout.margin\n        Received value: -5\n\n    The 'r' property is a number and may be specified as:\n      - An int or float in the interval [0, inf]",
     "output_type": "error",
     "traceback": [
      "\u001b[1;31m---------------------------------------------------------------------------\u001b[0m",
      "\u001b[1;31mValueError\u001b[0m                                Traceback (most recent call last)",
      "Cell \u001b[1;32mIn[66], line 12\u001b[0m\n\u001b[0;32m      8\u001b[0m fig \u001b[38;5;241m=\u001b[39m px\u001b[38;5;241m.\u001b[39mscatter_mapbox(df_1, lat\u001b[38;5;241m=\u001b[39m\u001b[38;5;124m\"\u001b[39m\u001b[38;5;124mdec_lat_va\u001b[39m\u001b[38;5;124m\"\u001b[39m, lon\u001b[38;5;241m=\u001b[39m\u001b[38;5;124m\"\u001b[39m\u001b[38;5;124mdec_long_va\u001b[39m\u001b[38;5;124m\"\u001b[39m, hover_name\u001b[38;5;241m=\u001b[39m\u001b[38;5;124m'\u001b[39m\u001b[38;5;124msite_no\u001b[39m\u001b[38;5;124m'\u001b[39m, hover_data\u001b[38;5;241m=\u001b[39m[\u001b[38;5;124m\"\u001b[39m\u001b[38;5;124msite_no\u001b[39m\u001b[38;5;124m\"\u001b[39m, \u001b[38;5;124m\"\u001b[39m\u001b[38;5;124mannual_hmf\u001b[39m\u001b[38;5;124m\"\u001b[39m], color\u001b[38;5;241m=\u001b[39mcolor_metric,\n\u001b[0;32m      9\u001b[0m                         size\u001b[38;5;241m=\u001b[39msize_metric, size_max\u001b[38;5;241m=\u001b[39m\u001b[38;5;241m12\u001b[39m, zoom\u001b[38;5;241m=\u001b[39m\u001b[38;5;241m3\u001b[39m, height\u001b[38;5;241m=\u001b[39m\u001b[38;5;241m700\u001b[39m, width\u001b[38;5;241m=\u001b[39m\u001b[38;5;241m1200\u001b[39m, color_continuous_scale\u001b[38;5;241m=\u001b[39mpx\u001b[38;5;241m.\u001b[39mcolors\u001b[38;5;241m.\u001b[39msequential\u001b[38;5;241m.\u001b[39mRainbow, opacity\u001b[38;5;241m=\u001b[39m\u001b[38;5;241m0.75\u001b[39m)\n\u001b[0;32m     11\u001b[0m fig\u001b[38;5;241m.\u001b[39mupdate_layout(mapbox_style\u001b[38;5;241m=\u001b[39m\u001b[38;5;124m\"\u001b[39m\u001b[38;5;124mopen-street-map\u001b[39m\u001b[38;5;124m\"\u001b[39m)\n\u001b[1;32m---> 12\u001b[0m \u001b[43mfig\u001b[49m\u001b[38;5;241;43m.\u001b[39;49m\u001b[43mupdate_layout\u001b[49m\u001b[43m(\u001b[49m\u001b[43mmargin\u001b[49m\u001b[38;5;241;43m=\u001b[39;49m\u001b[43m{\u001b[49m\u001b[38;5;124;43m\"\u001b[39;49m\u001b[38;5;124;43mr\u001b[39;49m\u001b[38;5;124;43m\"\u001b[39;49m\u001b[43m:\u001b[49m\u001b[38;5;241;43m-\u001b[39;49m\u001b[38;5;241;43m5\u001b[39;49m\u001b[43m,\u001b[49m\u001b[38;5;124;43m\"\u001b[39;49m\u001b[38;5;124;43mt\u001b[39;49m\u001b[38;5;124;43m\"\u001b[39;49m\u001b[43m:\u001b[49m\u001b[38;5;241;43m0\u001b[39;49m\u001b[43m,\u001b[49m\u001b[38;5;124;43m\"\u001b[39;49m\u001b[38;5;124;43ml\u001b[39;49m\u001b[38;5;124;43m\"\u001b[39;49m\u001b[43m:\u001b[49m\u001b[38;5;241;43m0\u001b[39;49m\u001b[43m,\u001b[49m\u001b[38;5;124;43m\"\u001b[39;49m\u001b[38;5;124;43mb\u001b[39;49m\u001b[38;5;124;43m\"\u001b[39;49m\u001b[43m:\u001b[49m\u001b[38;5;241;43m0\u001b[39;49m\u001b[43m}\u001b[49m\u001b[43m)\u001b[49m\n\u001b[0;32m     13\u001b[0m fig\u001b[38;5;241m.\u001b[39mshow()\n",
      "File \u001b[1;32mc:\\Users\\alekh\\AppData\\Local\\Programs\\Python\\Python310\\lib\\site-packages\\plotly\\graph_objs\\_figure.py:779\u001b[0m, in \u001b[0;36mFigure.update_layout\u001b[1;34m(self, dict1, overwrite, **kwargs)\u001b[0m\n\u001b[0;32m    753\u001b[0m \u001b[38;5;28;01mdef\u001b[39;00m \u001b[38;5;21mupdate_layout\u001b[39m(\u001b[38;5;28mself\u001b[39m, dict1\u001b[38;5;241m=\u001b[39m\u001b[38;5;28;01mNone\u001b[39;00m, overwrite\u001b[38;5;241m=\u001b[39m\u001b[38;5;28;01mFalse\u001b[39;00m, \u001b[38;5;241m*\u001b[39m\u001b[38;5;241m*\u001b[39mkwargs) \u001b[38;5;241m-\u001b[39m\u001b[38;5;241m>\u001b[39m \u001b[38;5;124m\"\u001b[39m\u001b[38;5;124mFigure\u001b[39m\u001b[38;5;124m\"\u001b[39m:\n\u001b[0;32m    754\u001b[0m \u001b[38;5;250m    \u001b[39m\u001b[38;5;124;03m\"\"\"\u001b[39;00m\n\u001b[0;32m    755\u001b[0m \n\u001b[0;32m    756\u001b[0m \u001b[38;5;124;03m    Update the properties of the figure's layout with a dict and/or with\u001b[39;00m\n\u001b[1;32m   (...)\u001b[0m\n\u001b[0;32m    777\u001b[0m \n\u001b[0;32m    778\u001b[0m \u001b[38;5;124;03m    \"\"\"\u001b[39;00m\n\u001b[1;32m--> 779\u001b[0m     \u001b[38;5;28;01mreturn\u001b[39;00m \u001b[38;5;28msuper\u001b[39m(Figure, \u001b[38;5;28mself\u001b[39m)\u001b[38;5;241m.\u001b[39mupdate_layout(dict1, overwrite, \u001b[38;5;241m*\u001b[39m\u001b[38;5;241m*\u001b[39mkwargs)\n",
      "File \u001b[1;32mc:\\Users\\alekh\\AppData\\Local\\Programs\\Python\\Python310\\lib\\site-packages\\plotly\\basedatatypes.py:1391\u001b[0m, in \u001b[0;36mBaseFigure.update_layout\u001b[1;34m(self, dict1, overwrite, **kwargs)\u001b[0m\n\u001b[0;32m   1367\u001b[0m \u001b[38;5;28;01mdef\u001b[39;00m \u001b[38;5;21mupdate_layout\u001b[39m(\u001b[38;5;28mself\u001b[39m, dict1\u001b[38;5;241m=\u001b[39m\u001b[38;5;28;01mNone\u001b[39;00m, overwrite\u001b[38;5;241m=\u001b[39m\u001b[38;5;28;01mFalse\u001b[39;00m, \u001b[38;5;241m*\u001b[39m\u001b[38;5;241m*\u001b[39mkwargs):\n\u001b[0;32m   1368\u001b[0m \u001b[38;5;250m    \u001b[39m\u001b[38;5;124;03m\"\"\"\u001b[39;00m\n\u001b[0;32m   1369\u001b[0m \u001b[38;5;124;03m    Update the properties of the figure's layout with a dict and/or with\u001b[39;00m\n\u001b[0;32m   1370\u001b[0m \u001b[38;5;124;03m    keyword arguments.\u001b[39;00m\n\u001b[1;32m   (...)\u001b[0m\n\u001b[0;32m   1389\u001b[0m \u001b[38;5;124;03m        The Figure object that the update_layout method was called on\u001b[39;00m\n\u001b[0;32m   1390\u001b[0m \u001b[38;5;124;03m    \"\"\"\u001b[39;00m\n\u001b[1;32m-> 1391\u001b[0m     \u001b[38;5;28mself\u001b[39m\u001b[38;5;241m.\u001b[39mlayout\u001b[38;5;241m.\u001b[39mupdate(dict1, overwrite\u001b[38;5;241m=\u001b[39moverwrite, \u001b[38;5;241m*\u001b[39m\u001b[38;5;241m*\u001b[39mkwargs)\n\u001b[0;32m   1392\u001b[0m     \u001b[38;5;28;01mreturn\u001b[39;00m \u001b[38;5;28mself\u001b[39m\n",
      "File \u001b[1;32mc:\\Users\\alekh\\AppData\\Local\\Programs\\Python\\Python310\\lib\\site-packages\\plotly\\basedatatypes.py:5137\u001b[0m, in \u001b[0;36mBasePlotlyType.update\u001b[1;34m(self, dict1, overwrite, **kwargs)\u001b[0m\n\u001b[0;32m   5135\u001b[0m     \u001b[38;5;28;01mwith\u001b[39;00m \u001b[38;5;28mself\u001b[39m\u001b[38;5;241m.\u001b[39mfigure\u001b[38;5;241m.\u001b[39mbatch_update():\n\u001b[0;32m   5136\u001b[0m         BaseFigure\u001b[38;5;241m.\u001b[39m_perform_update(\u001b[38;5;28mself\u001b[39m, dict1, overwrite\u001b[38;5;241m=\u001b[39moverwrite)\n\u001b[1;32m-> 5137\u001b[0m         \u001b[43mBaseFigure\u001b[49m\u001b[38;5;241;43m.\u001b[39;49m\u001b[43m_perform_update\u001b[49m\u001b[43m(\u001b[49m\u001b[38;5;28;43mself\u001b[39;49m\u001b[43m,\u001b[49m\u001b[43m \u001b[49m\u001b[43mkwargs\u001b[49m\u001b[43m,\u001b[49m\u001b[43m \u001b[49m\u001b[43moverwrite\u001b[49m\u001b[38;5;241;43m=\u001b[39;49m\u001b[43moverwrite\u001b[49m\u001b[43m)\u001b[49m\n\u001b[0;32m   5138\u001b[0m \u001b[38;5;28;01melse\u001b[39;00m:\n\u001b[0;32m   5139\u001b[0m     BaseFigure\u001b[38;5;241m.\u001b[39m_perform_update(\u001b[38;5;28mself\u001b[39m, dict1, overwrite\u001b[38;5;241m=\u001b[39moverwrite)\n",
      "File \u001b[1;32mc:\\Users\\alekh\\AppData\\Local\\Programs\\Python\\Python310\\lib\\site-packages\\plotly\\basedatatypes.py:3919\u001b[0m, in \u001b[0;36mBaseFigure._perform_update\u001b[1;34m(plotly_obj, update_obj, overwrite)\u001b[0m\n\u001b[0;32m   3913\u001b[0m validator \u001b[38;5;241m=\u001b[39m plotly_obj\u001b[38;5;241m.\u001b[39m_get_prop_validator(key)\n\u001b[0;32m   3915\u001b[0m \u001b[38;5;28;01mif\u001b[39;00m \u001b[38;5;28misinstance\u001b[39m(validator, CompoundValidator) \u001b[38;5;129;01mand\u001b[39;00m \u001b[38;5;28misinstance\u001b[39m(val, \u001b[38;5;28mdict\u001b[39m):\n\u001b[0;32m   3916\u001b[0m \n\u001b[0;32m   3917\u001b[0m     \u001b[38;5;66;03m# Update compound objects recursively\u001b[39;00m\n\u001b[0;32m   3918\u001b[0m     \u001b[38;5;66;03m# plotly_obj[key].update(val)\u001b[39;00m\n\u001b[1;32m-> 3919\u001b[0m     \u001b[43mBaseFigure\u001b[49m\u001b[38;5;241;43m.\u001b[39;49m\u001b[43m_perform_update\u001b[49m\u001b[43m(\u001b[49m\u001b[43mplotly_obj\u001b[49m\u001b[43m[\u001b[49m\u001b[43mkey\u001b[49m\u001b[43m]\u001b[49m\u001b[43m,\u001b[49m\u001b[43m \u001b[49m\u001b[43mval\u001b[49m\u001b[43m)\u001b[49m\n\u001b[0;32m   3920\u001b[0m \u001b[38;5;28;01melif\u001b[39;00m \u001b[38;5;28misinstance\u001b[39m(validator, CompoundArrayValidator):\n\u001b[0;32m   3921\u001b[0m     \u001b[38;5;28;01mif\u001b[39;00m plotly_obj[key]:\n\u001b[0;32m   3922\u001b[0m         \u001b[38;5;66;03m# plotly_obj has an existing non-empty array for key\u001b[39;00m\n\u001b[0;32m   3923\u001b[0m         \u001b[38;5;66;03m# In this case we merge val into the existing elements\u001b[39;00m\n",
      "File \u001b[1;32mc:\\Users\\alekh\\AppData\\Local\\Programs\\Python\\Python310\\lib\\site-packages\\plotly\\basedatatypes.py:3940\u001b[0m, in \u001b[0;36mBaseFigure._perform_update\u001b[1;34m(plotly_obj, update_obj, overwrite)\u001b[0m\n\u001b[0;32m   3937\u001b[0m                 plotly_obj[key] \u001b[38;5;241m=\u001b[39m val\n\u001b[0;32m   3938\u001b[0m         \u001b[38;5;28;01melse\u001b[39;00m:\n\u001b[0;32m   3939\u001b[0m             \u001b[38;5;66;03m# Assign non-compound value\u001b[39;00m\n\u001b[1;32m-> 3940\u001b[0m             \u001b[43mplotly_obj\u001b[49m\u001b[43m[\u001b[49m\u001b[43mkey\u001b[49m\u001b[43m]\u001b[49m \u001b[38;5;241m=\u001b[39m val\n\u001b[0;32m   3942\u001b[0m \u001b[38;5;28;01melif\u001b[39;00m \u001b[38;5;28misinstance\u001b[39m(plotly_obj, \u001b[38;5;28mtuple\u001b[39m):\n\u001b[0;32m   3944\u001b[0m     \u001b[38;5;28;01mif\u001b[39;00m \u001b[38;5;28mlen\u001b[39m(update_obj) \u001b[38;5;241m==\u001b[39m \u001b[38;5;241m0\u001b[39m:\n\u001b[0;32m   3945\u001b[0m         \u001b[38;5;66;03m# Nothing to do\u001b[39;00m\n",
      "File \u001b[1;32mc:\\Users\\alekh\\AppData\\Local\\Programs\\Python\\Python310\\lib\\site-packages\\plotly\\basedatatypes.py:4874\u001b[0m, in \u001b[0;36mBasePlotlyType.__setitem__\u001b[1;34m(self, prop, value)\u001b[0m\n\u001b[0;32m   4870\u001b[0m         \u001b[38;5;28mself\u001b[39m\u001b[38;5;241m.\u001b[39m_set_array_prop(prop, value)\n\u001b[0;32m   4872\u001b[0m     \u001b[38;5;66;03m# ### Handle simple property ###\u001b[39;00m\n\u001b[0;32m   4873\u001b[0m     \u001b[38;5;28;01melse\u001b[39;00m:\n\u001b[1;32m-> 4874\u001b[0m         \u001b[38;5;28;43mself\u001b[39;49m\u001b[38;5;241;43m.\u001b[39;49m\u001b[43m_set_prop\u001b[49m\u001b[43m(\u001b[49m\u001b[43mprop\u001b[49m\u001b[43m,\u001b[49m\u001b[43m \u001b[49m\u001b[43mvalue\u001b[49m\u001b[43m)\u001b[49m\n\u001b[0;32m   4875\u001b[0m \u001b[38;5;28;01melse\u001b[39;00m:\n\u001b[0;32m   4876\u001b[0m     \u001b[38;5;66;03m# Make sure properties dict is initialized\u001b[39;00m\n\u001b[0;32m   4877\u001b[0m     \u001b[38;5;28mself\u001b[39m\u001b[38;5;241m.\u001b[39m_init_props()\n",
      "File \u001b[1;32mc:\\Users\\alekh\\AppData\\Local\\Programs\\Python\\Python310\\lib\\site-packages\\plotly\\basedatatypes.py:5218\u001b[0m, in \u001b[0;36mBasePlotlyType._set_prop\u001b[1;34m(self, prop, val)\u001b[0m\n\u001b[0;32m   5216\u001b[0m         \u001b[38;5;28;01mreturn\u001b[39;00m\n\u001b[0;32m   5217\u001b[0m     \u001b[38;5;28;01melse\u001b[39;00m:\n\u001b[1;32m-> 5218\u001b[0m         \u001b[38;5;28;01mraise\u001b[39;00m err\n\u001b[0;32m   5220\u001b[0m \u001b[38;5;66;03m# val is None\u001b[39;00m\n\u001b[0;32m   5221\u001b[0m \u001b[38;5;66;03m# -----------\u001b[39;00m\n\u001b[0;32m   5222\u001b[0m \u001b[38;5;28;01mif\u001b[39;00m val \u001b[38;5;129;01mis\u001b[39;00m \u001b[38;5;28;01mNone\u001b[39;00m:\n\u001b[0;32m   5223\u001b[0m     \u001b[38;5;66;03m# Check if we should send null update\u001b[39;00m\n",
      "File \u001b[1;32mc:\\Users\\alekh\\AppData\\Local\\Programs\\Python\\Python310\\lib\\site-packages\\plotly\\basedatatypes.py:5213\u001b[0m, in \u001b[0;36mBasePlotlyType._set_prop\u001b[1;34m(self, prop, val)\u001b[0m\n\u001b[0;32m   5210\u001b[0m validator \u001b[38;5;241m=\u001b[39m \u001b[38;5;28mself\u001b[39m\u001b[38;5;241m.\u001b[39m_get_validator(prop)\n\u001b[0;32m   5212\u001b[0m \u001b[38;5;28;01mtry\u001b[39;00m:\n\u001b[1;32m-> 5213\u001b[0m     val \u001b[38;5;241m=\u001b[39m \u001b[43mvalidator\u001b[49m\u001b[38;5;241;43m.\u001b[39;49m\u001b[43mvalidate_coerce\u001b[49m\u001b[43m(\u001b[49m\u001b[43mval\u001b[49m\u001b[43m)\u001b[49m\n\u001b[0;32m   5214\u001b[0m \u001b[38;5;28;01mexcept\u001b[39;00m \u001b[38;5;167;01mValueError\u001b[39;00m \u001b[38;5;28;01mas\u001b[39;00m err:\n\u001b[0;32m   5215\u001b[0m     \u001b[38;5;28;01mif\u001b[39;00m \u001b[38;5;28mself\u001b[39m\u001b[38;5;241m.\u001b[39m_skip_invalid:\n",
      "File \u001b[1;32mc:\\Users\\alekh\\AppData\\Local\\Programs\\Python\\Python310\\lib\\site-packages\\_plotly_utils\\basevalidators.py:812\u001b[0m, in \u001b[0;36mNumberValidator.validate_coerce\u001b[1;34m(self, v)\u001b[0m\n\u001b[0;32m    810\u001b[0m     \u001b[38;5;28;01mif\u001b[39;00m \u001b[38;5;28mself\u001b[39m\u001b[38;5;241m.\u001b[39mhas_min_max:\n\u001b[0;32m    811\u001b[0m         \u001b[38;5;28;01mif\u001b[39;00m \u001b[38;5;129;01mnot\u001b[39;00m (\u001b[38;5;28mself\u001b[39m\u001b[38;5;241m.\u001b[39mmin_val \u001b[38;5;241m<\u001b[39m\u001b[38;5;241m=\u001b[39m v \u001b[38;5;241m<\u001b[39m\u001b[38;5;241m=\u001b[39m \u001b[38;5;28mself\u001b[39m\u001b[38;5;241m.\u001b[39mmax_val):\n\u001b[1;32m--> 812\u001b[0m             \u001b[38;5;28;43mself\u001b[39;49m\u001b[38;5;241;43m.\u001b[39;49m\u001b[43mraise_invalid_val\u001b[49m\u001b[43m(\u001b[49m\u001b[43mv\u001b[49m\u001b[43m)\u001b[49m\n\u001b[0;32m    813\u001b[0m \u001b[38;5;28;01mreturn\u001b[39;00m v\n",
      "File \u001b[1;32mc:\\Users\\alekh\\AppData\\Local\\Programs\\Python\\Python310\\lib\\site-packages\\_plotly_utils\\basevalidators.py:296\u001b[0m, in \u001b[0;36mBaseValidator.raise_invalid_val\u001b[1;34m(self, v, inds)\u001b[0m\n\u001b[0;32m    293\u001b[0m             \u001b[38;5;28;01mfor\u001b[39;00m i \u001b[38;5;129;01min\u001b[39;00m inds:\n\u001b[0;32m    294\u001b[0m                 name \u001b[38;5;241m+\u001b[39m\u001b[38;5;241m=\u001b[39m \u001b[38;5;124m\"\u001b[39m\u001b[38;5;124m[\u001b[39m\u001b[38;5;124m\"\u001b[39m \u001b[38;5;241m+\u001b[39m \u001b[38;5;28mstr\u001b[39m(i) \u001b[38;5;241m+\u001b[39m \u001b[38;5;124m\"\u001b[39m\u001b[38;5;124m]\u001b[39m\u001b[38;5;124m\"\u001b[39m\n\u001b[1;32m--> 296\u001b[0m         \u001b[38;5;28;01mraise\u001b[39;00m \u001b[38;5;167;01mValueError\u001b[39;00m(\n\u001b[0;32m    297\u001b[0m \u001b[38;5;250m            \u001b[39m\u001b[38;5;124;03m\"\"\"\u001b[39;00m\n\u001b[0;32m    298\u001b[0m \u001b[38;5;124;03m    Invalid value of type {typ} received for the '{name}' property of {pname}\u001b[39;00m\n\u001b[0;32m    299\u001b[0m \u001b[38;5;124;03m        Received value: {v}\u001b[39;00m\n\u001b[0;32m    300\u001b[0m \n\u001b[0;32m    301\u001b[0m \u001b[38;5;124;03m{valid_clr_desc}\"\"\"\u001b[39;00m\u001b[38;5;241m.\u001b[39mformat(\n\u001b[0;32m    302\u001b[0m                 name\u001b[38;5;241m=\u001b[39mname,\n\u001b[0;32m    303\u001b[0m                 pname\u001b[38;5;241m=\u001b[39m\u001b[38;5;28mself\u001b[39m\u001b[38;5;241m.\u001b[39mparent_name,\n\u001b[0;32m    304\u001b[0m                 typ\u001b[38;5;241m=\u001b[39mtype_str(v),\n\u001b[0;32m    305\u001b[0m                 v\u001b[38;5;241m=\u001b[39m\u001b[38;5;28mrepr\u001b[39m(v),\n\u001b[0;32m    306\u001b[0m                 valid_clr_desc\u001b[38;5;241m=\u001b[39m\u001b[38;5;28mself\u001b[39m\u001b[38;5;241m.\u001b[39mdescription(),\n\u001b[0;32m    307\u001b[0m             )\n\u001b[0;32m    308\u001b[0m         )\n",
      "\u001b[1;31mValueError\u001b[0m: \n    Invalid value of type 'builtins.int' received for the 'r' property of layout.margin\n        Received value: -5\n\n    The 'r' property is a number and may be specified as:\n      - An int or float in the interval [0, inf]"
     ]
    }
   ],
   "source": [
    "# The metric to color the datapoints by\n",
    "color_metric = \"annual_hmf\"\n",
    "# The metric to size the datapoints by\n",
    "size_metric = \"annual_hmf\"\n",
    "\n",
    "df_1 = df_1.sort_values(by=color_metric, ascending=True)\n",
    "\n",
    "fig = px.scatter_mapbox(df_1, lat=\"dec_lat_va\", lon=\"dec_long_va\", hover_name='site_no', hover_data=[\"site_no\", \"annual_hmf\"], color=color_metric,\n",
    "                        size=size_metric, size_max=12, zoom=3, height=700, width=1200, color_continuous_scale=px.colors.sequential.Rainbow, opacity=0.75)\n",
    "\n",
    "fig.update_layout(mapbox_style=\"open-street-map\")\n",
    "fig.update_layout(margin={\"r\":0,\"t\":0,\"l\":0,\"b\":0})\n",
    "fig.show()"
   ]
  }
 ],
 "metadata": {
  "kernelspec": {
   "display_name": "Python 3",
   "language": "python",
   "name": "python3"
  },
  "language_info": {
   "codemirror_mode": {
    "name": "ipython",
    "version": 3
   },
   "file_extension": ".py",
   "mimetype": "text/x-python",
   "name": "python",
   "nbconvert_exporter": "python",
   "pygments_lexer": "ipython3",
   "version": "3.10.11"
  }
 },
 "nbformat": 4,
 "nbformat_minor": 2
}
