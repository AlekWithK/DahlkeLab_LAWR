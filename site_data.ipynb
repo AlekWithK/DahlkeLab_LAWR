{
 "cells": [
  {
   "cell_type": "markdown",
   "metadata": {},
   "source": [
    "## Imports"
   ]
  },
  {
   "cell_type": "code",
   "execution_count": 9,
   "metadata": {},
   "outputs": [],
   "source": [
    "#Python3.10\n",
    "import pandas as pd \n",
    "import numpy as np\n",
    "import seaborn as sns\n",
    "import matplotlib.pyplot as plt\n",
    "\n",
    "from dataretrieval import nwis, utils, codes"
   ]
  },
  {
   "cell_type": "markdown",
   "metadata": {},
   "source": [
    "## Inputs"
   ]
  },
  {
   "cell_type": "code",
   "execution_count": 57,
   "metadata": {},
   "outputs": [],
   "source": [
    "# 11447650 -- Sacramento River Basin\n",
    "# 11303500 -- San Joaquin-Tulare Basin\n",
    "\n",
    "SITE_NO = '11303500'\n",
    "STATE_CODE = 'ca'\n",
    "\n",
    "# 00060 -- Discharge\n",
    "# 00010 -- Temperature\n",
    "PARAM_CODE = '00060'\n",
    "\n",
    "# ft^3 -> km^3\n",
    "CUBIC_FT_KM_FACTOR = 0.0000000000283168466\n",
    "# Seconds per year\n",
    "SEC_PER_YEAR = 31536000 "
   ]
  },
  {
   "cell_type": "markdown",
   "metadata": {},
   "source": [
    "## Data Retrieval"
   ]
  },
  {
   "cell_type": "code",
   "execution_count": 58,
   "metadata": {},
   "outputs": [
    {
     "name": "stdout",
     "output_type": "stream",
     "text": [
      "Retrieved 92 data values.\n",
      "Total flow in CFPY: 4950945178685.216\n",
      "Total flow in CKPY: 140.19515514983885\n"
     ]
    }
   ],
   "source": [
    "df = nwis.get_stats(sites=SITE_NO, parameterCD=PARAM_CODE, statReportType='annual')\n",
    "\n",
    "print(\"Retrieved \" + str(len(df[0])) + \" data values.\")\n",
    "\n",
    "# Removing metadata\n",
    "df = pd.DataFrame(df[0])\n",
    "\n",
    "# Scale 'mean_va' from feet per second to feet per year\n",
    "df = df['mean_va'] * SEC_PER_YEAR\n",
    "\n",
    "# Find the mean feet per year discharge\n",
    "mean_annual_flow = df.mean()\n",
    "\n",
    "# Calculate 90th percentile threshold\n",
    "threshold = mean_annual_flow * 0.90\n",
    "\n",
    "HMF_flow = [val - threshold for val in df if val > threshold]\n",
    "\n",
    "total_flows_cfpy = sum(HMF_flow)\n",
    "total_flows_ckpy = total_flows_cfpy * CUBIC_FT_KM_FACTOR\n",
    "\n",
    "\n",
    "print(f'Total flow in CFPY: {total_flows_cfpy}')\n",
    "print(f'Total flow in CKPY: {total_flows_ckpy}')"
   ]
  },
  {
   "cell_type": "markdown",
   "metadata": {},
   "source": [
    "## Data Processing"
   ]
  },
  {
   "cell_type": "code",
   "execution_count": null,
   "metadata": {},
   "outputs": [],
   "source": []
  }
 ],
 "metadata": {
  "kernelspec": {
   "display_name": "Python 3",
   "language": "python",
   "name": "python3"
  },
  "language_info": {
   "codemirror_mode": {
    "name": "ipython",
    "version": 3
   },
   "file_extension": ".py",
   "mimetype": "text/x-python",
   "name": "python",
   "nbconvert_exporter": "python",
   "pygments_lexer": "ipython3",
   "version": "3.10.11"
  },
  "orig_nbformat": 4
 },
 "nbformat": 4,
 "nbformat_minor": 2
}
